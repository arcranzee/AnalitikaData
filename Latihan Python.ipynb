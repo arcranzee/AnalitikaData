{
 "cells": [
  {
   "cell_type": "code",
   "execution_count": 42,
   "metadata": {},
   "outputs": [],
   "source": [
    "#import pandas\n",
    "import pandas as p"
   ]
  },
  {
   "cell_type": "code",
   "execution_count": 43,
   "metadata": {},
   "outputs": [
    {
     "name": "stdout",
     "output_type": "stream",
     "text": [
      "   a  b   c\n",
      "1  4  7  10\n",
      "2  5  8  11\n",
      "3  6  9  12\n"
     ]
    }
   ],
   "source": [
    "#menyiapkan data frame\n",
    "ds = p.DataFrame(\n",
    "    {\"a\" : [4 ,5, 6],\n",
    "    \"b\" : [7, 8, 9],\n",
    "    \"c\" : [10, 11, 12]},\n",
    "        index = [1, 2, 3])\n",
    "\n",
    "#menampilkan dataframe\n",
    "print(ds)"
   ]
  },
  {
   "cell_type": "code",
   "execution_count": 44,
   "metadata": {},
   "outputs": [
    {
     "name": "stdout",
     "output_type": "stream",
     "text": [
      "   0  1\n",
      "0  1  2\n",
      "0  3  4\n",
      "1  5  6\n"
     ]
    }
   ],
   "source": [
    "#menyiapkan data frame\n",
    "df = p.DataFrame([[3, 4], [5, 6]])\n",
    "\n",
    "#menambahkan baris baru\n",
    "a_row = p.Series([1, 2])\n",
    "row_df = p.DataFrame([a_row])\n",
    "\n",
    "#menggabungkan baris baru ke dataset\n",
    "df = p.concat([row_df, df])\n",
    "\n",
    "#menampilkan dataframe\n",
    "print(df)"
   ]
  },
  {
   "cell_type": "code",
   "execution_count": 45,
   "metadata": {},
   "outputs": [],
   "source": [
    "#nama file Excel, digunakan di banyak fungsi\n",
    "excel_file = 'movies.xls'\n",
    "\n",
    "#membuat dataframe\n",
    "movies = p.read_excel(excel_file)"
   ]
  },
  {
   "cell_type": "code",
   "execution_count": 46,
   "metadata": {},
   "outputs": [
    {
     "data": {
      "text/plain": [
       "Title                             The Exorcist \n",
       "Year                                       1973\n",
       "Genres                                   Horror\n",
       "Language                                English\n",
       "Country                                     USA\n",
       "Content Rating                                R\n",
       "Duration                                    132\n",
       "Aspect Ratio                               1.37\n",
       "Budget                                8000000.0\n",
       "Gross Earnings                      204565000.0\n",
       "Director                       William Friedkin\n",
       "Actor 1                           Ellen Burstyn\n",
       "Actor 2                             Linda Blair\n",
       "Actor 3                             Lee J. Cobb\n",
       "Facebook Likes - Director                   607\n",
       "Facebook Likes - Actor 1                   1000\n",
       "Facebook Likes - Actor 2                    931\n",
       "Facebook Likes - Actor 3                  259.0\n",
       "Facebook Likes - cast Total                2466\n",
       "Facebook likes - Movie                    18000\n",
       "Facenumber in posters                         0\n",
       "User Votes                               284252\n",
       "Reviews by Users                           1058\n",
       "Reviews by Crtiics                        304.0\n",
       "IMDB Score                                  8.0\n",
       "Name: 186, dtype: object"
      ]
     },
     "execution_count": 46,
     "metadata": {},
     "output_type": "execute_result"
    }
   ],
   "source": [
    "#menampilkan data teratas (defaultnya 5)\n",
    "movies.head()\n",
    "\n",
    "#menampilkan data terbawah (defaultnya 5)\n",
    "movies.tail()\n",
    "\n",
    "#mengecek ukuran dataset (deafultnya hanya untuk sheet pertama)\n",
    "movies.shape\n",
    "\n",
    "#mengecek data dari baris spesifik\n",
    "movies.loc[186]"
   ]
  },
  {
   "cell_type": "code",
   "execution_count": 47,
   "metadata": {
    "scrolled": false
   },
   "outputs": [
    {
     "data": {
      "text/plain": [
       "(2100, 24)"
      ]
     },
     "execution_count": 47,
     "metadata": {},
     "output_type": "execute_result"
    }
   ],
   "source": [
    "#mengimport sheet spesifik\n",
    "movies_1 = p.read_excel(excel_file, sheet_name=0, index_col=0)\n",
    "movies_2 = p.read_excel(excel_file, sheet_name=1, index_col=0)\n",
    "movies_3 = p.read_excel(excel_file, sheet_name=2, index_col=0)\n",
    "\n",
    "#menampilkan sheet spesifik\n",
    "movies_1.shape\n",
    "movies_3.shape\n",
    "movies_2.shape"
   ]
  },
  {
   "cell_type": "code",
   "execution_count": 48,
   "metadata": {},
   "outputs": [
    {
     "data": {
      "text/plain": [
       "(5042, 24)"
      ]
     },
     "execution_count": 48,
     "metadata": {},
     "output_type": "execute_result"
    }
   ],
   "source": [
    "#menggabungkan tiga buah dataset\n",
    "movies_all = p.concat([movies_1, movies_2, movies_3])\n",
    "\n",
    "#mengecek ukuran dataset gabungan\n",
    "movies_all.shape"
   ]
  },
  {
   "cell_type": "code",
   "execution_count": 49,
   "metadata": {},
   "outputs": [
    {
     "data": {
      "text/plain": [
       "(5042, 25)"
      ]
     },
     "execution_count": 49,
     "metadata": {},
     "output_type": "execute_result"
    }
   ],
   "source": [
    "#mengimpor banyak sheet ke satu dataset\n",
    "#dapat menggunakan nama file Excel atau excel_file yang sudah didefinisikan di awal\n",
    "xlsx = p.ExcelFile(excel_file)\n",
    "\n",
    "#menggabungkan seluruh sheet yang baru diimport\n",
    "movies_sheets = []\n",
    "for sheet in xlsx.sheet_names:\n",
    "   movies_sheets.append(xlsx.parse(sheet))\n",
    "movies_all2 = p.concat(movies_sheets)\n",
    "\n",
    "#mengecek ukuran dataset baru\n",
    "movies_all2.shape"
   ]
  },
  {
   "cell_type": "code",
   "execution_count": 50,
   "metadata": {},
   "outputs": [],
   "source": [
    "#mengekspor dataframe/dataset ke dalam file Excel di folder yang sama\n",
    "movies_all2.to_excel(\"Film.xlsx\")"
   ]
  },
  {
   "cell_type": "code",
   "execution_count": 51,
   "metadata": {},
   "outputs": [
    {
     "data": {
      "text/html": [
       "<div>\n",
       "<style scoped>\n",
       "    .dataframe tbody tr th:only-of-type {\n",
       "        vertical-align: middle;\n",
       "    }\n",
       "\n",
       "    .dataframe tbody tr th {\n",
       "        vertical-align: top;\n",
       "    }\n",
       "\n",
       "    .dataframe thead th {\n",
       "        text-align: right;\n",
       "    }\n",
       "</style>\n",
       "<table border=\"1\" class=\"dataframe\">\n",
       "  <thead>\n",
       "    <tr style=\"text-align: right;\">\n",
       "      <th></th>\n",
       "      <th>Title</th>\n",
       "      <th>Year</th>\n",
       "      <th>Genres</th>\n",
       "      <th>Language</th>\n",
       "      <th>Country</th>\n",
       "      <th>Content Rating</th>\n",
       "      <th>Duration</th>\n",
       "      <th>Aspect Ratio</th>\n",
       "      <th>Budget</th>\n",
       "      <th>Gross Earnings</th>\n",
       "      <th>...</th>\n",
       "      <th>Facebook Likes - Actor 1</th>\n",
       "      <th>Facebook Likes - Actor 2</th>\n",
       "      <th>Facebook Likes - Actor 3</th>\n",
       "      <th>Facebook Likes - cast Total</th>\n",
       "      <th>Facebook likes - Movie</th>\n",
       "      <th>Facenumber in posters</th>\n",
       "      <th>User Votes</th>\n",
       "      <th>Reviews by Users</th>\n",
       "      <th>Reviews by Crtiics</th>\n",
       "      <th>IMDB Score</th>\n",
       "    </tr>\n",
       "  </thead>\n",
       "  <tbody>\n",
       "    <tr>\n",
       "      <th>1027</th>\n",
       "      <td>Titanic</td>\n",
       "      <td>1997</td>\n",
       "      <td>Drama|Romance</td>\n",
       "      <td>English</td>\n",
       "      <td>USA</td>\n",
       "      <td>PG-13</td>\n",
       "      <td>194</td>\n",
       "      <td>2.35</td>\n",
       "      <td>200000000.0</td>\n",
       "      <td>658672302.0</td>\n",
       "      <td>...</td>\n",
       "      <td>29000</td>\n",
       "      <td>14000</td>\n",
       "      <td>794.0</td>\n",
       "      <td>45223</td>\n",
       "      <td>26000</td>\n",
       "      <td>0</td>\n",
       "      <td>793059</td>\n",
       "      <td>2528</td>\n",
       "      <td>315.0</td>\n",
       "      <td>7.7</td>\n",
       "    </tr>\n",
       "    <tr>\n",
       "      <th>1281</th>\n",
       "      <td>Star Wars: Episode I - The Phantom Menace</td>\n",
       "      <td>1999</td>\n",
       "      <td>Action|Adventure|Fantasy|Sci-Fi</td>\n",
       "      <td>English</td>\n",
       "      <td>USA</td>\n",
       "      <td>PG</td>\n",
       "      <td>136</td>\n",
       "      <td>2.35</td>\n",
       "      <td>115000000.0</td>\n",
       "      <td>474544677.0</td>\n",
       "      <td>...</td>\n",
       "      <td>20000</td>\n",
       "      <td>14000</td>\n",
       "      <td>1000.0</td>\n",
       "      <td>37723</td>\n",
       "      <td>13000</td>\n",
       "      <td>1</td>\n",
       "      <td>534658</td>\n",
       "      <td>3597</td>\n",
       "      <td>320.0</td>\n",
       "      <td>6.5</td>\n",
       "    </tr>\n",
       "    <tr>\n",
       "      <th>226</th>\n",
       "      <td>Star Wars: Episode IV - A New Hope</td>\n",
       "      <td>1977</td>\n",
       "      <td>Action|Adventure|Fantasy|Sci-Fi</td>\n",
       "      <td>English</td>\n",
       "      <td>USA</td>\n",
       "      <td>PG</td>\n",
       "      <td>125</td>\n",
       "      <td>2.35</td>\n",
       "      <td>11000000.0</td>\n",
       "      <td>460935665.0</td>\n",
       "      <td>...</td>\n",
       "      <td>11000</td>\n",
       "      <td>1000</td>\n",
       "      <td>504.0</td>\n",
       "      <td>13485</td>\n",
       "      <td>33000</td>\n",
       "      <td>1</td>\n",
       "      <td>911097</td>\n",
       "      <td>1470</td>\n",
       "      <td>282.0</td>\n",
       "      <td>8.7</td>\n",
       "    </tr>\n",
       "    <tr>\n",
       "      <th>328</th>\n",
       "      <td>E.T. the Extra-Terrestrial</td>\n",
       "      <td>1982</td>\n",
       "      <td>Family|Sci-Fi</td>\n",
       "      <td>English</td>\n",
       "      <td>USA</td>\n",
       "      <td>PG</td>\n",
       "      <td>120</td>\n",
       "      <td>1.85</td>\n",
       "      <td>10500000.0</td>\n",
       "      <td>434949459.0</td>\n",
       "      <td>...</td>\n",
       "      <td>861</td>\n",
       "      <td>725</td>\n",
       "      <td>548.0</td>\n",
       "      <td>2811</td>\n",
       "      <td>34000</td>\n",
       "      <td>0</td>\n",
       "      <td>281842</td>\n",
       "      <td>515</td>\n",
       "      <td>215.0</td>\n",
       "      <td>7.9</td>\n",
       "    </tr>\n",
       "    <tr>\n",
       "      <th>737</th>\n",
       "      <td>The Lion King</td>\n",
       "      <td>1994</td>\n",
       "      <td>Adventure|Animation|Drama|Family|Musical</td>\n",
       "      <td>English</td>\n",
       "      <td>USA</td>\n",
       "      <td>G</td>\n",
       "      <td>73</td>\n",
       "      <td>1.66</td>\n",
       "      <td>45000000.0</td>\n",
       "      <td>422783777.0</td>\n",
       "      <td>...</td>\n",
       "      <td>2000</td>\n",
       "      <td>886</td>\n",
       "      <td>847.0</td>\n",
       "      <td>6458</td>\n",
       "      <td>17000</td>\n",
       "      <td>0</td>\n",
       "      <td>644348</td>\n",
       "      <td>656</td>\n",
       "      <td>186.0</td>\n",
       "      <td>8.5</td>\n",
       "    </tr>\n",
       "  </tbody>\n",
       "</table>\n",
       "<p>5 rows × 25 columns</p>\n",
       "</div>"
      ],
      "text/plain": [
       "                                           Title  Year  \\\n",
       "1027                                    Titanic   1997   \n",
       "1281  Star Wars: Episode I - The Phantom Menace   1999   \n",
       "226          Star Wars: Episode IV - A New Hope   1977   \n",
       "328                  E.T. the Extra-Terrestrial   1982   \n",
       "737                               The Lion King   1994   \n",
       "\n",
       "                                        Genres Language Country  \\\n",
       "1027                             Drama|Romance  English     USA   \n",
       "1281           Action|Adventure|Fantasy|Sci-Fi  English     USA   \n",
       "226            Action|Adventure|Fantasy|Sci-Fi  English     USA   \n",
       "328                              Family|Sci-Fi  English     USA   \n",
       "737   Adventure|Animation|Drama|Family|Musical  English     USA   \n",
       "\n",
       "     Content Rating  Duration  Aspect Ratio       Budget  Gross Earnings  ...  \\\n",
       "1027          PG-13       194          2.35  200000000.0     658672302.0  ...   \n",
       "1281             PG       136          2.35  115000000.0     474544677.0  ...   \n",
       "226              PG       125          2.35   11000000.0     460935665.0  ...   \n",
       "328              PG       120          1.85   10500000.0     434949459.0  ...   \n",
       "737               G        73          1.66   45000000.0     422783777.0  ...   \n",
       "\n",
       "     Facebook Likes - Actor 1 Facebook Likes - Actor 2  \\\n",
       "1027                    29000                    14000   \n",
       "1281                    20000                    14000   \n",
       "226                     11000                     1000   \n",
       "328                       861                      725   \n",
       "737                      2000                      886   \n",
       "\n",
       "     Facebook Likes - Actor 3 Facebook Likes - cast Total  \\\n",
       "1027                    794.0                       45223   \n",
       "1281                   1000.0                       37723   \n",
       "226                     504.0                       13485   \n",
       "328                     548.0                        2811   \n",
       "737                     847.0                        6458   \n",
       "\n",
       "      Facebook likes - Movie  Facenumber in posters  User Votes  \\\n",
       "1027                   26000                      0      793059   \n",
       "1281                   13000                      1      534658   \n",
       "226                    33000                      1      911097   \n",
       "328                    34000                      0      281842   \n",
       "737                    17000                      0      644348   \n",
       "\n",
       "      Reviews by Users  Reviews by Crtiics  IMDB Score  \n",
       "1027              2528               315.0         7.7  \n",
       "1281              3597               320.0         6.5  \n",
       "226               1470               282.0         8.7  \n",
       "328                515               215.0         7.9  \n",
       "737                656               186.0         8.5  \n",
       "\n",
       "[5 rows x 25 columns]"
      ]
     },
     "execution_count": 51,
     "metadata": {},
     "output_type": "execute_result"
    }
   ],
   "source": [
    "#pengurutan berdasarkan pendapatan kotor\n",
    "movies_sort_gross = movies.sort_values(['Gross Earnings'], ascending=False)\n",
    "\n",
    "#menampilkan dataset yang sudah diurutkan\n",
    "movies_sort_gross.head()"
   ]
  },
  {
   "cell_type": "code",
   "execution_count": 52,
   "metadata": {},
   "outputs": [],
   "source": [
    "#import library untuk membuat plot\n",
    "import matplotlib.pyplot as plt"
   ]
  },
  {
   "cell_type": "code",
   "execution_count": 53,
   "metadata": {},
   "outputs": [
    {
     "data": {
      "image/png": "[encoded data removed]",
      "text/plain": [
       "<Figure size 432x288 with 1 Axes>"
      ]
     },
     "metadata": {
      "needs_background": "light"
     },
     "output_type": "display_data"
    },
    {
     "data": {
      "image/png": "[encoded data removed]",
      "text/plain": [
       "<Figure size 432x288 with 1 Axes>"
      ]
     },
     "metadata": {
      "needs_background": "light"
     },
     "output_type": "display_data"
    }
   ],
   "source": [
    "#membuat bar chart untuk total pendapatan kotor\n",
    "movies_sort_gross['Gross Earnings'].head(11).plot(kind=\"barh\")\n",
    "plt.show()\n",
    "\n",
    "#membuat histogram untuk rata-rata skor IMDB\n",
    "movies['IMDB Score'].plot(kind=\"hist\")\n",
    "plt.show()"
   ]
  },
  {
   "cell_type": "code",
   "execution_count": 54,
   "metadata": {},
   "outputs": [
    {
     "data": {
      "text/plain": [
       "5844716.964790543"
      ]
     },
     "execution_count": 54,
     "metadata": {},
     "output_type": "execute_result"
    }
   ],
   "source": [
    "#menampilkan statistik dasar\n",
    "movies_all2.describe()\n",
    "\n",
    "#melakukan operasi pada data\n",
    "movies_all2['Net Earnings'] = movies_all2['Gross Earnings'] - movies_all2['Budget']\n",
    "\n",
    "#menampilkan statistik secara sepesifik\n",
    "movies_all2['Net Earnings'].mean()"
   ]
  },
  {
   "cell_type": "code",
   "execution_count": 55,
   "metadata": {},
   "outputs": [],
   "source": [
    "#import numpy\n",
    "import numpy as np"
   ]
  },
  {
   "cell_type": "code",
   "execution_count": 56,
   "metadata": {},
   "outputs": [
    {
     "data": {
      "text/html": [
       "<div>\n",
       "<style scoped>\n",
       "    .dataframe tbody tr th:only-of-type {\n",
       "        vertical-align: middle;\n",
       "    }\n",
       "\n",
       "    .dataframe tbody tr th {\n",
       "        vertical-align: top;\n",
       "    }\n",
       "\n",
       "    .dataframe thead th {\n",
       "        text-align: right;\n",
       "    }\n",
       "</style>\n",
       "<table border=\"1\" class=\"dataframe\">\n",
       "  <thead>\n",
       "    <tr style=\"text-align: right;\">\n",
       "      <th></th>\n",
       "      <th>Title</th>\n",
       "      <th>Year</th>\n",
       "      <th>Genres</th>\n",
       "      <th>Language</th>\n",
       "      <th>Content Rating</th>\n",
       "      <th>Duration</th>\n",
       "      <th>Aspect Ratio</th>\n",
       "      <th>Budget</th>\n",
       "      <th>Gross Earnings</th>\n",
       "      <th>Director</th>\n",
       "      <th>...</th>\n",
       "      <th>Facebook Likes - Actor 1</th>\n",
       "      <th>Facebook Likes - Actor 2</th>\n",
       "      <th>Facebook Likes - Actor 3</th>\n",
       "      <th>Facebook Likes - cast Total</th>\n",
       "      <th>Facebook likes - Movie</th>\n",
       "      <th>Facenumber in posters</th>\n",
       "      <th>User Votes</th>\n",
       "      <th>Reviews by Users</th>\n",
       "      <th>Reviews by Crtiics</th>\n",
       "      <th>IMDB Score</th>\n",
       "    </tr>\n",
       "  </thead>\n",
       "  <tbody>\n",
       "    <tr>\n",
       "      <th>0</th>\n",
       "      <td>Intolerance: Love's Struggle Throughout the Ages</td>\n",
       "      <td>1916</td>\n",
       "      <td>Drama|History|War</td>\n",
       "      <td>NaN</td>\n",
       "      <td>Not Rated</td>\n",
       "      <td>123</td>\n",
       "      <td>1.33</td>\n",
       "      <td>385907.0</td>\n",
       "      <td>NaN</td>\n",
       "      <td>D.W. Griffith</td>\n",
       "      <td>...</td>\n",
       "      <td>436</td>\n",
       "      <td>22</td>\n",
       "      <td>9.0</td>\n",
       "      <td>481</td>\n",
       "      <td>691</td>\n",
       "      <td>1</td>\n",
       "      <td>10718</td>\n",
       "      <td>88</td>\n",
       "      <td>69.0</td>\n",
       "      <td>8.0</td>\n",
       "    </tr>\n",
       "    <tr>\n",
       "      <th>1</th>\n",
       "      <td>Over the Hill to the Poorhouse</td>\n",
       "      <td>1920</td>\n",
       "      <td>Crime|Drama</td>\n",
       "      <td>NaN</td>\n",
       "      <td>NaN</td>\n",
       "      <td>110</td>\n",
       "      <td>1.33</td>\n",
       "      <td>100000.0</td>\n",
       "      <td>3000000.0</td>\n",
       "      <td>Harry F. Millarde</td>\n",
       "      <td>...</td>\n",
       "      <td>2</td>\n",
       "      <td>2</td>\n",
       "      <td>0.0</td>\n",
       "      <td>4</td>\n",
       "      <td>0</td>\n",
       "      <td>1</td>\n",
       "      <td>5</td>\n",
       "      <td>1</td>\n",
       "      <td>1.0</td>\n",
       "      <td>4.8</td>\n",
       "    </tr>\n",
       "    <tr>\n",
       "      <th>2</th>\n",
       "      <td>The Big Parade</td>\n",
       "      <td>1925</td>\n",
       "      <td>Drama|Romance|War</td>\n",
       "      <td>NaN</td>\n",
       "      <td>Not Rated</td>\n",
       "      <td>151</td>\n",
       "      <td>1.33</td>\n",
       "      <td>245000.0</td>\n",
       "      <td>NaN</td>\n",
       "      <td>King Vidor</td>\n",
       "      <td>...</td>\n",
       "      <td>81</td>\n",
       "      <td>12</td>\n",
       "      <td>6.0</td>\n",
       "      <td>108</td>\n",
       "      <td>226</td>\n",
       "      <td>0</td>\n",
       "      <td>4849</td>\n",
       "      <td>45</td>\n",
       "      <td>48.0</td>\n",
       "      <td>8.3</td>\n",
       "    </tr>\n",
       "    <tr>\n",
       "      <th>3</th>\n",
       "      <td>Metropolis</td>\n",
       "      <td>1927</td>\n",
       "      <td>Drama|Sci-Fi</td>\n",
       "      <td>German</td>\n",
       "      <td>Not Rated</td>\n",
       "      <td>145</td>\n",
       "      <td>1.33</td>\n",
       "      <td>6000000.0</td>\n",
       "      <td>26435.0</td>\n",
       "      <td>Fritz Lang</td>\n",
       "      <td>...</td>\n",
       "      <td>136</td>\n",
       "      <td>23</td>\n",
       "      <td>18.0</td>\n",
       "      <td>203</td>\n",
       "      <td>12000</td>\n",
       "      <td>1</td>\n",
       "      <td>111841</td>\n",
       "      <td>413</td>\n",
       "      <td>260.0</td>\n",
       "      <td>8.3</td>\n",
       "    </tr>\n",
       "    <tr>\n",
       "      <th>4</th>\n",
       "      <td>Pandora's Box</td>\n",
       "      <td>1929</td>\n",
       "      <td>Crime|Drama|Romance</td>\n",
       "      <td>German</td>\n",
       "      <td>Not Rated</td>\n",
       "      <td>110</td>\n",
       "      <td>1.33</td>\n",
       "      <td>NaN</td>\n",
       "      <td>9950.0</td>\n",
       "      <td>Georg Wilhelm Pabst</td>\n",
       "      <td>...</td>\n",
       "      <td>426</td>\n",
       "      <td>20</td>\n",
       "      <td>3.0</td>\n",
       "      <td>455</td>\n",
       "      <td>926</td>\n",
       "      <td>1</td>\n",
       "      <td>7431</td>\n",
       "      <td>84</td>\n",
       "      <td>71.0</td>\n",
       "      <td>8.0</td>\n",
       "    </tr>\n",
       "  </tbody>\n",
       "</table>\n",
       "<p>5 rows × 24 columns</p>\n",
       "</div>"
      ],
      "text/plain": [
       "                                               Title  Year  \\\n",
       "0  Intolerance: Love's Struggle Throughout the Ages   1916   \n",
       "1                    Over the Hill to the Poorhouse   1920   \n",
       "2                                    The Big Parade   1925   \n",
       "3                                        Metropolis   1927   \n",
       "4                                     Pandora's Box   1929   \n",
       "\n",
       "                Genres Language Content Rating  Duration  Aspect Ratio  \\\n",
       "0    Drama|History|War      NaN      Not Rated       123          1.33   \n",
       "1          Crime|Drama      NaN            NaN       110          1.33   \n",
       "2    Drama|Romance|War      NaN      Not Rated       151          1.33   \n",
       "3         Drama|Sci-Fi   German      Not Rated       145          1.33   \n",
       "4  Crime|Drama|Romance   German      Not Rated       110          1.33   \n",
       "\n",
       "      Budget  Gross Earnings             Director  ...  \\\n",
       "0   385907.0             NaN        D.W. Griffith  ...   \n",
       "1   100000.0       3000000.0    Harry F. Millarde  ...   \n",
       "2   245000.0             NaN           King Vidor  ...   \n",
       "3  6000000.0         26435.0           Fritz Lang  ...   \n",
       "4        NaN          9950.0  Georg Wilhelm Pabst  ...   \n",
       "\n",
       "  Facebook Likes - Actor 1 Facebook Likes - Actor 2 Facebook Likes - Actor 3  \\\n",
       "0                      436                       22                      9.0   \n",
       "1                        2                        2                      0.0   \n",
       "2                       81                       12                      6.0   \n",
       "3                      136                       23                     18.0   \n",
       "4                      426                       20                      3.0   \n",
       "\n",
       "   Facebook Likes - cast Total  Facebook likes - Movie  Facenumber in posters  \\\n",
       "0                          481                     691                      1   \n",
       "1                            4                       0                      1   \n",
       "2                          108                     226                      0   \n",
       "3                          203                   12000                      1   \n",
       "4                          455                     926                      1   \n",
       "\n",
       "   User Votes  Reviews by Users  Reviews by Crtiics  IMDB Score  \n",
       "0       10718                88                69.0         8.0  \n",
       "1           5                 1                 1.0         4.8  \n",
       "2        4849                45                48.0         8.3  \n",
       "3      111841               413               260.0         8.3  \n",
       "4        7431                84                71.0         8.0  \n",
       "\n",
       "[5 rows x 24 columns]"
      ]
     },
     "execution_count": 56,
     "metadata": {},
     "output_type": "execute_result"
    }
   ],
   "source": [
    "#membuat dataframe baru\n",
    "df_new = p.read_excel(\"movies.xls\")\n",
    "\n",
    "#menghitung jumlah film yang tidak memiliki pendapatan kotor\n",
    "df_new['Gross Earnings'].isnull().sum()\n",
    "\n",
    "#menghapus kolom\n",
    "to_drop = ['Country']\n",
    "df_new.drop(to_drop, inplace=True, axis=1)\n",
    "\n",
    "#menampilkan dataset yang sudah didrop\n",
    "df_new.head()"
   ]
  }
 ],
 "metadata": {
  "kernelspec": {
   "display_name": "Python 3 (ipykernel)",
   "language": "python",
   "name": "python3"
  },
  "language_info": {
   "codemirror_mode": {
    "name": "ipython",
    "version": 3
   },
   "file_extension": ".py",
   "mimetype": "text/x-python",
   "name": "python",
   "nbconvert_exporter": "python",
   "pygments_lexer": "ipython3",
   "version": "3.9.7"
  }
 },
 "nbformat": 4,
 "nbformat_minor": 4
}
